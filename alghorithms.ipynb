# !pip install networkx
# !pip install matplotlib
# !pip install tqdm
import random
import networkx as nx
import matplotlib.pyplot as plt
from itertools import combinations, groupby
## Generating graph
# You can use this function to generate a random graph with 'num_of_nodes' nodes
# and 'completeness' probability of an edge between any two nodes
# If 'directed' is True, the graph will be directed
# If 'draw' is True, the graph will be drawn
def gnp_random_connected_graph(num_of_nodes: int,
                               completeness: int,
                               directed: bool = False,
                               draw: bool = False):
    """
    Generates a random graph, similarly to an Erdős-Rényi 
    graph, but enforcing that the resulting graph is conneted (in case of undirected graphs)
    """

    
    if directed:
        G = nx.DiGraph()
    else:
        G = nx.Graph()
    edges = combinations(range(num_of_nodes), 2)
    G.add_nodes_from(range(num_of_nodes))
    
    for _, node_edges in groupby(edges, key = lambda x: x[0]):
        node_edges = list(node_edges)
        random_edge = random.choice(node_edges)
        if random.random() < 0.5:
            random_edge = random_edge[::-1]
        G.add_edge(*random_edge)
        for e in node_edges:
            if random.random() < completeness:
                G.add_edge(*e)
                
    for (u,v,w) in G.edges(data=True):
        w['weight'] = random.randint(-5, 20)
                
    if draw: 
        plt.figure(figsize=(10,6))
        if directed:
            # draw with edge weights
            pos = nx.arf_layout(G)
            nx.draw(G,pos, node_color='lightblue', 
                    with_labels=True,
                    node_size=500, 
                    arrowsize=20, 
                    arrows=True)
            labels = nx.get_edge_attributes(G,'weight')
            nx.draw_networkx_edge_labels(G, pos,edge_labels=labels)
            
        else:
            nx.draw(G, node_color='lightblue', 
                with_labels=True, 
                node_size=500)
        
    return G
G = gnp_random_connected_graph(10, 1, False, True)
# For Task 1
## Kruskal's algorithm
from networkx.algorithms import tree
mstk = tree.minimum_spanning_tree(G, algorithm="kruskal")
nx.draw(mstk, node_color='lightblue', 
        with_labels=True, 
        node_size=500)
class kruskal_alghoritm:
    def __init__(self, graph) -> None:
        self.nodes = [[i] for i in graph.nodes]
        self.edges = self.kruskal(list(graph.edges(data = True)), self.nodes)
    @staticmethod
    def find(u, nodes):
        for mn in nodes:
            if u in mn:
                return mn
    def kruskal(self, edges, nodes):
        edges = sorted(edges, key= lambda x : x[2]['weight'])
        edges_tree = []
        for edge in edges:
            if len(nodes) == 1:
                return edges_tree
            vertex1 = kruskal_alghoritm.find(edge[0], nodes)
            vertex2 = kruskal_alghoritm.find(edge[1], nodes)
            if vertex1 != vertex2:
                edges_tree.append((edge[0], edge[1]))
                nodes[nodes.index(vertex2)] += (vertex1)
                nodes.pop(nodes.index(vertex1))
        return edges_tree

karkas_kruskal = kruskal_alghoritm(G)
print(len(karkas_kruskal.edges))
print(karkas_kruskal.edges)

print(mstk.edges)
karkas_kruskal = kruskal_alghoritm(G)
print(set(mstk.edges) == set(karkas_kruskal.edges))
print(karkas_kruskal.edges)

#Returns True
## Prim's algorithm
mstp = tree.minimum_spanning_tree(G, algorithm="prim")
nx.draw(mstp, node_color='lightblue', 
        with_labels=True, 
        node_size=500)
mstp.edges(), len(mstp.edges())
class PrimAlgo:
    def __init__(self, graph):
        self.edges = list(graph.edges(data=True))
    def prim(self, graph, start=0):
        visited_nodes = set()
        visited_nodes.add(start)
        res = []
        while len(visited_nodes) < len(graph.nodes):
                possible_edges = []
                for edge in self.edges:
                    if (edge[0] in visited_nodes and edge[1] not in visited_nodes) or\
                        (edge[0] not in visited_nodes and edge[1] in visited_nodes):
                        possible_edges.append(edge)
                possible_edges = sorted(possible_edges, key = lambda x: x[2]['weight'])
                res.append(possible_edges[0])
                visited_nodes.add(possible_edges[0][0])
                visited_nodes.add(possible_edges[0][1])
        return res
a = PrimAlgo(G)

a.prim(G)
b = [i[:2] for i in a.prim(G)]
print(b)
print(mstp.edges())
print(set(b) == set(mstp.edges()))
# For Task 2
G = gnp_random_connected_graph(20, 0.1, True, True)
## Bellman-Ford algorithm
from networkx.algorithms import bellman_ford_predecessor_and_distance
# pred is a dictionary of predecessors, dist is a dictionary of distances
try:
    pred, dist = bellman_ford_predecessor_and_distance(G, 0)
    for k, v in dist.items():
        print(f"Distance to {k}:", v)
except:
    print("Negative cycle detected")
class Berman_Ford_alghrotim:
    def __init__(self, orientated_graph, starting_node) -> None:
        self.starting_node = starting_node
        self.edges = list(orientated_graph.edges(data = True))
        self.nodes = orientated_graph.nodes
    def shortest_path(self):
        distance = {}
        for v in self.nodes:
            distance[v] = float('inf')
        distance[self.starting_node] = 0
        for _ in range(1, len(self.nodes) - 1):
            for edge in self.edges:
                if distance[edge[0]] + edge[2]['weight'] < distance[edge[1]]:
                    distance[edge[1]] = distance[edge[0]] + edge[2]['weight']
        for edge in self.edges:
            if distance[edge[0]] + edge[2]['weight'] < distance[edge[1]]:
                return "Negative cycle detected"
        return {i : j for i, j in distance.items() if j != float('inf')}
berman_ford_result = Berman_Ford_alghrotim(G, 0)
try:
    dist = berman_ford_result.shortest_path()
    for u, w in dist.items():
        print(f"Distance to {u}:", w)
except ValueError:
    print("Negative cycle detected")
        


pred, dist = bellman_ford_predecessor_and_distance(G, 0)
berman_ford_result = Berman_Ford_alghrotim(G, 0)
dist1  = berman_ford_result.shortest_path()
print(dist1 == dist)
#Returns True if set of edges is equal
## Floyd-Warshall algorithm
from networkx.algorithms import floyd_warshall_predecessor_and_distance
# pred is a dictionary of predecessors, dist is a dictionary of distances dictionaries
try:
    pred, dist = floyd_warshall_predecessor_and_distance(G) 
    for k, v in dist.items():
        print(f"Distances with {k} source:", dict(v))
except:
    print("Negative cycle detected")
class floyd_warshall:
    def __init__(self, graph):
        self.graph = graph
        self.matrix = self.graph_to_matr()
    def graph_to_matr(self):
        edges = list(self.graph.edges(data = True))
        n = len(self.graph.nodes())
        matrix = [[float('inf') for i in range(n)] for j in range(n)]
        for edge in edges:
            matrix[edge[0]][edge[1]] = edge[2]['weight']
        for i in range(n):
            matrix[i][i] = 0
        return matrix
    def floyd_warshall(self):
        length = len(self.matrix)
        res = self.matrix.copy()
        for k in range(length):
            for i in range(length):
                for j in range(length):
                    res[i][j] = min(res[i][j], res[i][k] + res[k][j])
        dict_res = {}
        for row_i, row in enumerate(res):
            dict_res[row_i] = {el_i:el for el_i, el in enumerate(row)}


        return dict_res
a = floyd_warshall(G)
print(a.floyd_warshall())
pred, dist = floyd_warshall_predecessor_and_distance(G) 
print(set(a.floyd_warshall()) == set(dist)) #Returns True
## Some useful explanations
### How to get list of edges for your algorithm
edges = list(G.edges()) # by default G.edges are EdgesView class
edges[:5]
### To get edges with weights
edges = list(G.edges(data=True))
edges[:5]
nodes = list(G.nodes())
print(nodes)
## Example on time measuring

Read more on this: https://realpython.com/python-timer/

Recall that you should measure times for 5, 10, 20, 50, 100, 200, 500 nodes 1000 times (and take mean of time taken for each node amount).

Then you should build the plot for two algorithms (x - data size, y - mean time of execution).
import time
from tqdm import tqdm
import numpy as np
import matplotlib.pyplot as matpl
TIME MEASURING BERMAN_FORD ALGHORITHM

NUM_OF_ITERATIONS = 100
nodes_lst = [5, 6, 7, 8, 9, 10]

def executions_my_alghoritm(nodes):
    execution_times = []
    for i in tqdm(range(NUM_OF_ITERATIONS)):

        G = gnp_random_connected_graph(nodes, 0.01, True)

        start = time.time()
        Berman_Ford_alghrotim(G, 0).shortest_path()
        end = time.time()
        execution_times.append(end - start)


    return np.mean(execution_times)
mean_times = []
for node_amount in nodes_lst:
    mean_times.append(executions_my_alghoritm(node_amount))

def executions_nx_module(nodes):
    execution_times = []
    for i in tqdm(range(NUM_OF_ITERATIONS)):

        G = gnp_random_connected_graph(nodes, 0.01, True)

        start = time.time()
        bellman_ford_predecessor_and_distance(G, 0)
        end = time.time()
        execution_times.append(end - start)


    return np.mean(execution_times)

mean_times2 = []
for node_amount in nodes_lst:
    mean_times2.append(executions_nx_module(node_amount))

plt.plot(nodes_lst, mean_times, marker='o', color='green')
plt.plot(nodes_lst, mean_times2, marker='o', color='red')
plt.title('Green: my algorithm; Red: nx algorithm')
plt.xlabel('Number of Nodes')
plt.ylabel('Mean Execution Time')
plt.grid(True)
plt.show()

TIME MEASURING KRUSKAL'S ALGHORITHM
NUM_OF_ITERATIONS = 10
nodes_lst = [5, 10, 20, 50, 100, 150, 200, 300, 400]

def executions_my_alghoritm(nodes):
    execution_times = []
    for i in tqdm(range(NUM_OF_ITERATIONS)):

        G = gnp_random_connected_graph(nodes, 0.1, False)

        start = time.time()
        kruskal_alghoritm(G).edges
        end = time.time()
        execution_times.append(end - start)


    return np.mean(execution_times)
mean_times = []
for node_amount in nodes_lst:
    mean_times.append(executions_my_alghoritm(node_amount))

def executions_nx_module(nodes):
    execution_times = []
    for i in tqdm(range(NUM_OF_ITERATIONS)):

        G = gnp_random_connected_graph(nodes, 0.1, False)

        start = time.time()
        tree.minimum_spanning_tree(G, algorithm="kruskal")
        end = time.time()
        execution_times.append(end - start)


    return np.mean(execution_times)

mean_times2 = []
for node_amount in nodes_lst:
    mean_times2.append(executions_nx_module(node_amount))

plt.plot(nodes_lst, mean_times, marker='o', color='green')
plt.plot(nodes_lst, mean_times2, marker='o', color='red')
plt.title('Green: my algorithm; Red: nx algorithm')
plt.xlabel('Number of Nodes')
plt.ylabel('Mean Execution Time')
plt.grid(True)
plt.show()

TIME MEASURING PRIM'S ALGHORITHM
NUM_OF_ITERATIONS = 10
nodes_lst = [5, 10, 20, 50, 100, 150, 200, 300, 400]

def executions_my_alghoritm(nodes):
    execution_times = []
    for i in tqdm(range(NUM_OF_ITERATIONS)):

        G = gnp_random_connected_graph(nodes, 0.1, False)

        start = time.time()
        a = PrimAlgo(G)
        a.prim(G)
        b = [i[:2] for i in a.prim(G)]
        end = time.time()
        execution_times.append(end - start)


    return np.mean(execution_times)
mean_times = []
for node_amount in nodes_lst:
    mean_times.append(executions_my_alghoritm(node_amount))

def executions_nx_module(nodes):
    execution_times = []
    for i in tqdm(range(NUM_OF_ITERATIONS)):

        G = gnp_random_connected_graph(nodes, 0.1, False)

        start = time.time()
        tree.minimum_spanning_tree(G, algorithm="prim")
        end = time.time()
        execution_times.append(end - start)


    return np.mean(execution_times)

mean_times2 = []
for node_amount in nodes_lst:
    mean_times2.append(executions_nx_module(node_amount))

plt.plot(nodes_lst, mean_times, marker='o', color='green')
plt.plot(nodes_lst, mean_times2, marker='o', color='red')
plt.title('Green: my algorithm; Red: nx algorithm')
plt.xlabel('Number of Nodes')
plt.ylabel('Mean Execution Time')
plt.grid(True)
plt.show()

TIME MEASURING  FLOYD-WARSHALL  ALGHORITHM
NUM_OF_ITERATIONS = 10
nodes_lst = [5, 10, 20, 50, 100]

def executions_my_alghoritm(nodes):
    execution_times = []
    for i in tqdm(range(NUM_OF_ITERATIONS)):

        G = gnp_random_connected_graph(nodes, 0.01, True)
        tes = floyd_warshall(G)
        start = time.time()
        tes.floyd_warshall()
        end = time.time()
        execution_times.append(end - start)


    return np.mean(execution_times)
mean_times = []
for node_amount in nodes_lst:
    mean_times.append(executions_my_alghoritm(node_amount))

def executions_nx_module(nodes):
    execution_times = []
    for i in tqdm(range(NUM_OF_ITERATIONS)):

        G = gnp_random_connected_graph(nodes, 0.01, True)

        start = time.time()
        floyd_warshall_predecessor_and_distance(G) 
        end = time.time()
        execution_times.append(end - start)


    return np.mean(execution_times)

mean_times2 = []
for node_amount in nodes_lst:
    mean_times2.append(executions_nx_module(node_amount))

plt.plot(nodes_lst, mean_times, marker='o', color='green')
plt.plot(nodes_lst, mean_times2, marker='o', color='red')
plt.title('Green: my algorithm; Red: nx algorithm')
plt.xlabel('Number of Nodes')
plt.ylabel('Mean Execution Time')
plt.grid(True)
plt.show()
